{
 "cells": [
  {
   "cell_type": "code",
   "execution_count": 1,
   "metadata": {},
   "outputs": [],
   "source": [
    "import warnings\n",
    "warnings.filterwarnings('ignore')\n",
    "\n",
    "import logging\n",
    "import os.path\n",
    "import time\n",
    "from collections import OrderedDict\n",
    "import sys\n",
    "import pickle\n",
    "\n",
    "import numpy as np\n",
    "import mne\n",
    "\n",
    "from braindecode.models.deep4 import Deep4Net\n",
    "from braindecode.datasets.bcic_iv_2a import BCICompetition4Set2A\n",
    "from braindecode.experiments.experiment import Experiment\n",
    "from braindecode.experiments.monitors import (\n",
    "    LossMonitor,\n",
    "    MisclassMonitor,\n",
    "    RuntimeMonitor,\n",
    ")\n",
    "from braindecode.experiments.stopcriteria import MaxEpochs, NoDecrease, Or\n",
    "from braindecode.datautil.iterators import BalancedBatchSizeIterator\n",
    "from braindecode.models.shallow_fbcsp import ShallowFBCSPNet\n",
    "from braindecode.datautil.splitters import split_into_two_sets\n",
    "from braindecode.mne_ext.signalproc import mne_apply\n",
    "from braindecode.datautil.signalproc import (\n",
    "    bandpass_cnt,\n",
    "    exponential_running_standardize,\n",
    ")\n",
    "from braindecode.datautil.trial_segment import create_signal_target_from_raw_mne\n",
    "\n",
    "from braindecode.mne_ext.signalproc import resample_cnt\n",
    "\n",
    "from tensorflow.keras.utils import to_categorical\n",
    "from tensorflow.keras.callbacks import EarlyStopping\n",
    "from tensorflow.keras.optimizers import Adam\n",
    "import matplotlib.pyplot as plt\n",
    "\n",
    "from TA_CSPNN import *"
   ]
  },
  {
   "cell_type": "code",
   "execution_count": 2,
   "metadata": {},
   "outputs": [],
   "source": [
    "class model_config(object):\n",
    "    def __init__(self):\n",
    "        self.channels = 22\n",
    "        self.timesamples = 250\n",
    "        self.timeKernelLen = 64\n",
    "        self.num_classes = 4\n",
    "        self.Ft = 8 # individual model is 8\n",
    "        self.Fs = 2 # individual model is 2"
   ]
  },
  {
   "cell_type": "code",
   "execution_count": 3,
   "metadata": {},
   "outputs": [],
   "source": [
    "data_folder = './bci_2a'\n",
    "subject_id_list = [9,3]"
   ]
  },
  {
   "cell_type": "code",
   "execution_count": 4,
   "metadata": {},
   "outputs": [
    {
     "name": "stdout",
     "output_type": "stream",
     "text": [
      "Extracting EDF parameters from /home/ncarnigl/TA-CSPNN-Research/bci_2a/A09T.gdf...\n",
      "GDF file detected\n",
      "Setting channel info structure...\n",
      "Creating raw.info structure...\n",
      "Reading 0 ... 673327  =      0.000 ...  2693.308 secs...\n"
     ]
    },
    {
     "name": "stderr",
     "output_type": "stream",
     "text": [
      "/home/ncarnigl/.local/lib/python3.7/site-packages/mne/io/edf/edf.py:996: DeprecationWarning: The binary mode of fromstring is deprecated, as it behaves surprisingly on unicode inputs. Use frombuffer instead\n",
      "  etmode = np.fromstring(etmode, np.uint8).tolist()[0]\n"
     ]
    },
    {
     "name": "stdout",
     "output_type": "stream",
     "text": [
      "Used Annotations descriptions: ['1023', '1072', '276', '277', '32766', '768', '769', '770', '771', '772']\n",
      "Extracting EDF parameters from /home/ncarnigl/TA-CSPNN-Research/bci_2a/A09E.gdf...\n",
      "GDF file detected\n",
      "Setting channel info structure...\n",
      "Creating raw.info structure...\n",
      "Reading 0 ... 675097  =      0.000 ...  2700.388 secs...\n"
     ]
    },
    {
     "name": "stderr",
     "output_type": "stream",
     "text": [
      "/home/ncarnigl/.local/lib/python3.7/site-packages/mne/io/edf/edf.py:996: DeprecationWarning: The binary mode of fromstring is deprecated, as it behaves surprisingly on unicode inputs. Use frombuffer instead\n",
      "  etmode = np.fromstring(etmode, np.uint8).tolist()[0]\n"
     ]
    },
    {
     "name": "stdout",
     "output_type": "stream",
     "text": [
      "Used Annotations descriptions: ['1023', '1072', '276', '277', '32766', '768', '783']\n"
     ]
    },
    {
     "name": "stderr",
     "output_type": "stream",
     "text": [
      "WARNING: Logging before flag parsing goes to stderr.\n",
      "W0314 14:10:28.908883 139960005736256 signalproc.py:55] This is not causal, uses future data....\n"
     ]
    },
    {
     "name": "stdout",
     "output_type": "stream",
     "text": [
      "Creating RawArray with float64 data, n_channels=22, n_times=335317\n",
      "    Range : 0 ... 335316 =      0.000 ...  2693.301 secs\n",
      "Ready.\n"
     ]
    },
    {
     "name": "stderr",
     "output_type": "stream",
     "text": [
      "W0314 14:10:33.339093 139960005736256 signalproc.py:55] This is not causal, uses future data....\n"
     ]
    },
    {
     "name": "stdout",
     "output_type": "stream",
     "text": [
      "Creating RawArray with float64 data, n_channels=22, n_times=336198\n",
      "    Range : 0 ... 336197 =      0.000 ...  2700.378 secs\n",
      "Ready.\n",
      "Extracting EDF parameters from /home/ncarnigl/TA-CSPNN-Research/bci_2a/A03T.gdf...\n",
      "GDF file detected\n",
      "Setting channel info structure...\n",
      "Creating raw.info structure...\n",
      "Reading 0 ... 660529  =      0.000 ...  2642.116 secs...\n"
     ]
    },
    {
     "name": "stderr",
     "output_type": "stream",
     "text": [
      "/home/ncarnigl/.local/lib/python3.7/site-packages/mne/io/edf/edf.py:996: DeprecationWarning: The binary mode of fromstring is deprecated, as it behaves surprisingly on unicode inputs. Use frombuffer instead\n",
      "  etmode = np.fromstring(etmode, np.uint8).tolist()[0]\n"
     ]
    },
    {
     "name": "stdout",
     "output_type": "stream",
     "text": [
      "Used Annotations descriptions: ['1023', '1072', '276', '277', '32766', '768', '769', '770', '771', '772']\n",
      "Extracting EDF parameters from /home/ncarnigl/TA-CSPNN-Research/bci_2a/A03E.gdf...\n",
      "GDF file detected\n",
      "Setting channel info structure...\n",
      "Creating raw.info structure...\n",
      "Reading 0 ... 648774  =      0.000 ...  2595.096 secs...\n"
     ]
    },
    {
     "name": "stderr",
     "output_type": "stream",
     "text": [
      "/home/ncarnigl/.local/lib/python3.7/site-packages/mne/io/edf/edf.py:996: DeprecationWarning: The binary mode of fromstring is deprecated, as it behaves surprisingly on unicode inputs. Use frombuffer instead\n",
      "  etmode = np.fromstring(etmode, np.uint8).tolist()[0]\n"
     ]
    },
    {
     "name": "stdout",
     "output_type": "stream",
     "text": [
      "Used Annotations descriptions: ['1023', '1072', '276', '277', '32766', '768', '783']\n"
     ]
    },
    {
     "name": "stderr",
     "output_type": "stream",
     "text": [
      "W0314 14:10:41.570224 139960005736256 signalproc.py:55] This is not causal, uses future data....\n"
     ]
    },
    {
     "name": "stdout",
     "output_type": "stream",
     "text": [
      "Creating RawArray with float64 data, n_channels=22, n_times=328943\n",
      "    Range : 0 ... 328942 =      0.000 ...  2642.104 secs\n",
      "Ready.\n"
     ]
    },
    {
     "name": "stderr",
     "output_type": "stream",
     "text": [
      "W0314 14:10:45.542816 139960005736256 signalproc.py:55] This is not causal, uses future data....\n"
     ]
    },
    {
     "name": "stdout",
     "output_type": "stream",
     "text": [
      "Creating RawArray with float64 data, n_channels=22, n_times=323089\n",
      "    Range : 0 ... 323088 =      0.000 ...  2595.084 secs\n",
      "Ready.\n"
     ]
    }
   ],
   "source": [
    "x_train_list = []\n",
    "y_train_list = []\n",
    "\n",
    "x_val_list = []\n",
    "y_val_list = []\n",
    "\n",
    "x_test_list = []\n",
    "y_test_list = []\n",
    "\n",
    "for subject_id in subject_id_list:\n",
    "    low_cut_hz = 4\n",
    "    ival = [500, 2500]\n",
    "    max_epochs = 500\n",
    "    max_increase_epochs = 160\n",
    "    batch_size = 60\n",
    "    high_cut_hz = 40\n",
    "    factor_new = 1e-3\n",
    "    init_block_size = 1000\n",
    "    valid_set_fraction = 0.1\n",
    "    sampling_rate = 124.5 # using 125 results in 251 samples\n",
    "\n",
    "    train_filename = \"A{:02d}T.gdf\".format(subject_id)\n",
    "    test_filename = \"A{:02d}E.gdf\".format(subject_id)\n",
    "    train_filepath = os.path.join(data_folder, train_filename)\n",
    "    test_filepath = os.path.join(data_folder, test_filename)\n",
    "    train_label_filepath = train_filepath.replace(\".gdf\", \".mat\")\n",
    "    test_label_filepath = test_filepath.replace(\".gdf\", \".mat\")\n",
    "\n",
    "    train_loader = BCICompetition4Set2A(\n",
    "        train_filepath, labels_filename=train_label_filepath\n",
    "    )\n",
    "    test_loader = BCICompetition4Set2A(\n",
    "        test_filepath, labels_filename=test_label_filepath\n",
    "    )\n",
    "    train_cnt = train_loader.load()\n",
    "    test_cnt = test_loader.load()\n",
    "\n",
    "    train_cnt = train_cnt.drop_channels(\n",
    "            [\"EOG-left\", \"EOG-central\", \"EOG-right\"]\n",
    "        )\n",
    "    assert len(train_cnt.ch_names) == 22\n",
    "    # lets convert to millvolt for numerical stability of next operations\n",
    "    train_cnt = mne_apply(lambda a: a * 1e6, train_cnt)\n",
    "    train_cnt = mne_apply(lambda a: bandpass_cnt(a, low_cut_hz, high_cut_hz, train_cnt.info[\"sfreq\"],\n",
    "                                    filt_order=3, axis=1,), train_cnt,)\n",
    "\n",
    "    train_cnt = mne_apply(lambda a: exponential_running_standardize(a.T, factor_new=factor_new, init_block_size=init_block_size,\n",
    "                          eps=1e-4,).T, train_cnt,)\n",
    "\n",
    "    train_cnt = resample_cnt(train_cnt, sampling_rate)\n",
    "\n",
    "    test_cnt = test_cnt.drop_channels([\"EOG-left\", \"EOG-central\", \"EOG-right\"])\n",
    "    assert len(test_cnt.ch_names) == 22\n",
    "    test_cnt = mne_apply(lambda a: a * 1e6, test_cnt)\n",
    "    test_cnt = mne_apply(lambda a: bandpass_cnt(a, low_cut_hz, high_cut_hz, test_cnt.info[\"sfreq\"], \n",
    "                                   filt_order=3, axis=1,), test_cnt,)\n",
    "    test_cnt = mne_apply(lambda a: exponential_running_standardize( a.T, factor_new=factor_new, init_block_size=init_block_size,\n",
    "                         eps=1e-4,).T, test_cnt,)\n",
    "\n",
    "    test_cnt = resample_cnt(test_cnt, sampling_rate)\n",
    "\n",
    "    marker_def = OrderedDict([\n",
    "            (\"Left Hand\", [1]),\n",
    "            (\"Right Hand\", [2]),\n",
    "            (\"Foot\", [3]),\n",
    "            (\"Tongue\", [4]),\n",
    "        ])\n",
    "\n",
    "    train_set = create_signal_target_from_raw_mne(train_cnt, marker_def, ival)\n",
    "    test_set = create_signal_target_from_raw_mne(test_cnt, marker_def, ival)\n",
    "    train_set, valid_set = split_into_two_sets(\n",
    "        train_set, first_set_fraction=1 - valid_set_fraction\n",
    "    )\n",
    "    x_train = train_set.X[:,None,:,:]\n",
    "    y_train = to_categorical(train_set.y)\n",
    "\n",
    "    x_val = valid_set.X[:,None,:,:]\n",
    "    y_val = to_categorical(valid_set.y)\n",
    "\n",
    "    x_test = test_set.X[:,None,:,:]\n",
    "    y_test = test_set.y # dont need y_test to be one hot, predictions are class numbers\n",
    "    \n",
    "    x_train_list.append(x_train)\n",
    "    y_train_list.append(y_train)\n",
    "    \n",
    "    x_val_list.append(x_val)\n",
    "    y_val_list.append(y_val)\n",
    "    \n",
    "    x_test_list.append(x_test)\n",
    "    y_test_list.append(y_test)"
   ]
  },
  {
   "cell_type": "code",
   "execution_count": 5,
   "metadata": {},
   "outputs": [],
   "source": [
    "x_train = np.concatenate(tuple(x_train_list))\n",
    "y_train = np.concatenate(tuple(y_train_list))\n",
    "\n",
    "x_val = np.concatenate(tuple(x_val_list))\n",
    "y_val = np.concatenate(tuple(y_val_list))\n",
    "\n",
    "x_test = np.concatenate(tuple(x_test_list))\n",
    "y_test = np.concatenate(tuple(y_test_list))"
   ]
  },
  {
   "cell_type": "code",
   "execution_count": 6,
   "metadata": {},
   "outputs": [
    {
     "name": "stdout",
     "output_type": "stream",
     "text": [
      "(518, 1, 22, 250) (518, 4)\n",
      "(58, 1, 22, 250) (58, 4)\n",
      "(576, 1, 22, 250) (576,)\n"
     ]
    }
   ],
   "source": [
    "print(x_train.shape, y_train.shape)\n",
    "print(x_val.shape, y_val.shape)\n",
    "print(x_test.shape, y_test.shape)"
   ]
  },
  {
   "cell_type": "code",
   "execution_count": 7,
   "metadata": {},
   "outputs": [
    {
     "name": "stderr",
     "output_type": "stream",
     "text": [
      "W0314 14:10:46.563585 139960005736256 deprecation.py:506] From /opt/conda/lib/python3.7/site-packages/tensorflow/python/ops/init_ops.py:1251: calling VarianceScaling.__init__ (from tensorflow.python.ops.init_ops) with dtype is deprecated and will be removed in a future version.\n",
      "Instructions for updating:\n",
      "Call initializer instance with the dtype argument instead of passing it to the constructor\n",
      "W0314 14:10:51.448818 139960005736256 deprecation.py:323] From /opt/conda/lib/python3.7/site-packages/tensorflow/python/ops/math_grad.py:1205: add_dispatch_support.<locals>.wrapper (from tensorflow.python.ops.array_ops) is deprecated and will be removed in a future version.\n",
      "Instructions for updating:\n",
      "Use tf.where in 2.0, which has the same broadcast rule as np.where\n"
     ]
    },
    {
     "name": "stdout",
     "output_type": "stream",
     "text": [
      "accuracy: 0.8020833333333334\n",
      "accuracy: 0.7690972222222222\n",
      "accuracy: 0.8229166666666666\n",
      "accuracy: 0.8003472222222222\n",
      "accuracy: 0.8055555555555556\n",
      "accuracy: 0.8020833333333334\n",
      "accuracy: 0.7708333333333334\n",
      "accuracy: 0.7795138888888888\n",
      "accuracy: 0.7760416666666666\n",
      "accuracy: 0.8003472222222222\n",
      "0.7928819444444445\n"
     ]
    }
   ],
   "source": [
    "num_models = 10\n",
    "config = model_config()\n",
    "test_acc = 0\n",
    "subject_data = np.zeros((10,10))\n",
    "for i in range(num_models):\n",
    "    \n",
    "    model = TA_CSPNN(config.num_classes, Channels=config.channels, Timesamples=config.timesamples,\n",
    "                    timeKernelLen = config.timeKernelLen, Ft=config.Ft, Fs=config.Fs)\n",
    "    \n",
    "    model.compile(loss='categorical_crossentropy', optimizer='Adam', metrics = ['accuracy'])\n",
    "\n",
    "    es = EarlyStopping(monitor='val_loss', mode='min', verbose=0, patience=50)\n",
    "\n",
    "    history = model.fit(x_train, y_train, epochs=500, validation_data=((x_val, y_val)), callbacks=[es],\n",
    "                        verbose=0,shuffle=True)\n",
    "\n",
    "    y_pred = model.predict(x_test)\n",
    "\n",
    "    # y_pred not one hot encoded, classes = 0,1,2,3\n",
    "    y_pred = np.argmax(y_pred, axis=1)\n",
    "\n",
    "    # accuracy for all classes\n",
    "    acc = np.sum(y_pred == y_test) / len(y_test)\n",
    "    test_acc += acc\n",
    "    print(f\"accuracy: {acc}\")\n",
    "       \n",
    "    # accuracy for each subject\n",
    "    for index, subject_num in enumerate(subject_id_list):\n",
    "        y_pred = model.predict(x_test_list[index])\n",
    "        y_pred = np.argmax(y_pred, axis=1)\n",
    "        \n",
    "        sub_acc = np.sum(y_pred == y_test_list[index]) / len(y_pred)\n",
    "        subject_data[subject_num, i] = sub_acc        \n",
    "\n",
    "test_acc /= num_models\n",
    "print(test_acc)"
   ]
  },
  {
   "cell_type": "code",
   "execution_count": null,
   "metadata": {},
   "outputs": [],
   "source": []
  }
 ],
 "metadata": {
  "kernelspec": {
   "display_name": "Python 3",
   "language": "python",
   "name": "python3"
  },
  "language_info": {
   "codemirror_mode": {
    "name": "ipython",
    "version": 3
   },
   "file_extension": ".py",
   "mimetype": "text/x-python",
   "name": "python",
   "nbconvert_exporter": "python",
   "pygments_lexer": "ipython3",
   "version": "3.7.3"
  }
 },
 "nbformat": 4,
 "nbformat_minor": 2
}
