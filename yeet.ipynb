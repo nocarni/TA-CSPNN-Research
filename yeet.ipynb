{
 "cells": [
  {
   "cell_type": "code",
   "execution_count": 21,
   "metadata": {},
   "outputs": [],
   "source": [
    "from scipy import io\n",
    "import numpy as np\n",
    "import os\n",
    "import tensorflow as tf\n",
    "import tensorflow.keras.backend as K\n",
    "import math\n",
    "from tensorflow.keras.utils import to_categorical\n",
    "from tensorflow.keras.callbacks import EarlyStopping\n",
    "\n",
    "from TA_CSPNN import *"
   ]
  },
  {
   "cell_type": "code",
   "execution_count": 39,
   "metadata": {},
   "outputs": [
    {
     "name": "stdout",
     "output_type": "stream",
     "text": [
      "A01T.mat\n",
      "(22, 250, 288)\n",
      "(288, 1)\n",
      "num train samples: 259\n",
      "num val samples: 29\n"
     ]
    }
   ],
   "source": [
    "for file in os.listdir('matlab_data/'):\n",
    "    if not file == \"A01T.mat\":\n",
    "        continue\n",
    "    print(file)\n",
    "    \n",
    "    data = io.matlab.loadmat(\"matlab_data/\" + file)['data']\n",
    "    labels = io.matlab.loadmat('true_labels/' + file)['classlabel']\n",
    "    break\n",
    "print(data.shape)\n",
    "print(labels.shape)\n",
    "\n",
    "num_samples = data.shape[2]\n",
    "\n",
    "train_size = int(num_samples * .9) # 90/10 train validation split\n",
    "val_size = num_samples - train_size\n",
    "print(f\"num train samples: {train_size}\")\n",
    "print(f\"num val samples: {val_size}\")"
   ]
  },
  {
   "cell_type": "code",
   "execution_count": 45,
   "metadata": {},
   "outputs": [
    {
     "name": "stdout",
     "output_type": "stream",
     "text": [
      "x_train shape: (22, 250, 10)\n",
      "y_train shape: (10, 1)\n",
      "x_val shape: (22, 250, 5)\n",
      "y_val shape: (5, 1)\n"
     ]
    }
   ],
   "source": [
    "rand_idx = np.random.randint(0,288, num_samples)\n",
    "train_size = 10\n",
    "val_size = 5\n",
    "train_idx = rand_idx[:train_size]\n",
    "val_idx = rand_idx[train_size:train_size+val_size]\n",
    "\n",
    "x_train = data[:,:,train_idx]\n",
    "y_train = labels[train_idx]\n",
    "\n",
    "x_val = data[:,:,val_idx]\n",
    "y_val = labels[val_idx]\n",
    "print(f\"x_train shape: {x_train.shape}\")\n",
    "print(f\"y_train shape: {y_train.shape}\")\n",
    "print(f\"x_val shape: {x_val.shape}\")\n",
    "print(f\"y_val shape: {y_val.shape}\")"
   ]
  },
  {
   "cell_type": "code",
   "execution_count": 46,
   "metadata": {},
   "outputs": [
    {
     "name": "stdout",
     "output_type": "stream",
     "text": [
      "x_train shape: (10, 1, 22, 250)\n",
      "x_val shape: (5, 1, 22, 250)\n"
     ]
    }
   ],
   "source": [
    "x_train = np.reshape(x_train, (train_size, 1, 22, 250))\n",
    "x_val = np.reshape(x_val, (val_size, 1, 22, 250))\n",
    "\n",
    "y_train = to_categorical(y_train - 1)\n",
    "y_val = to_categorical(y_val - 1)\n",
    "\n",
    "print(f\"x_train shape: {x_train.shape}\")\n",
    "print(f\"x_val shape: {x_val.shape}\")"
   ]
  },
  {
   "cell_type": "code",
   "execution_count": 50,
   "metadata": {},
   "outputs": [
    {
     "data": {
      "text/plain": [
       "array([[0., 0., 0., 1.],\n",
       "       [0., 0., 1., 0.],\n",
       "       [1., 0., 0., 0.],\n",
       "       [1., 0., 0., 0.],\n",
       "       [0., 0., 1., 0.],\n",
       "       [0., 1., 0., 0.],\n",
       "       [0., 1., 0., 0.],\n",
       "       [0., 0., 1., 0.],\n",
       "       [0., 1., 0., 0.],\n",
       "       [0., 1., 0., 0.]], dtype=float32)"
      ]
     },
     "execution_count": 50,
     "metadata": {},
     "output_type": "execute_result"
    }
   ],
   "source": [
    "y_train"
   ]
  },
  {
   "cell_type": "code",
   "execution_count": 51,
   "metadata": {},
   "outputs": [
    {
     "data": {
      "text/plain": [
       "array([[4],\n",
       "       [3],\n",
       "       [1],\n",
       "       [1],\n",
       "       [3],\n",
       "       [2],\n",
       "       [2],\n",
       "       [3],\n",
       "       [2],\n",
       "       [2]], dtype=uint8)"
      ]
     },
     "execution_count": 51,
     "metadata": {},
     "output_type": "execute_result"
    }
   ],
   "source": [
    "labels[train_idx]"
   ]
  },
  {
   "cell_type": "code",
   "execution_count": null,
   "metadata": {},
   "outputs": [],
   "source": []
  },
  {
   "cell_type": "code",
   "execution_count": null,
   "metadata": {},
   "outputs": [],
   "source": []
  },
  {
   "cell_type": "code",
   "execution_count": 47,
   "metadata": {},
   "outputs": [],
   "source": [
    "class model_config(object):\n",
    "    def __init__(self):\n",
    "        self.channels = 22\n",
    "        self.timesamples = 250\n",
    "        self.timeKernelLen = 64\n",
    "        self.num_classes = 4\n",
    "        self.Ft = 8\n",
    "        self.Fs = 2"
   ]
  },
  {
   "cell_type": "code",
   "execution_count": 48,
   "metadata": {},
   "outputs": [],
   "source": [
    "config = model_config()\n",
    "model = TA_CSPNN(config.num_classes, Channels=config.channels, Timesamples=config.timesamples,\n",
    "                timeKernelLen = config.timeKernelLen, Ft=config.Ft, Fs=config.Fs)\n",
    "\n",
    "model.compile(loss='categorical_crossentropy', optimizer='adam', metrics = ['accuracy'])\n",
    "\n",
    "es = EarlyStopping(monitor='val_loss', mode='min', verbose=1, patience=50)"
   ]
  },
  {
   "cell_type": "code",
   "execution_count": 49,
   "metadata": {},
   "outputs": [
    {
     "name": "stdout",
     "output_type": "stream",
     "text": [
      "Train on 10 samples, validate on 5 samples\n",
      "Epoch 1/500\n",
      "10/10 - 0s - loss: 1.9954 - acc: 0.1000 - val_loss: 3.6405 - val_acc: 0.0000e+00\n",
      "Epoch 2/500\n",
      "10/10 - 0s - loss: 1.9359 - acc: 0.3000 - val_loss: 3.3434 - val_acc: 0.0000e+00\n",
      "Epoch 3/500\n",
      "10/10 - 0s - loss: 2.4843 - acc: 0.4000 - val_loss: 3.1186 - val_acc: 0.0000e+00\n",
      "Epoch 4/500\n",
      "10/10 - 0s - loss: 2.3617 - acc: 0.3000 - val_loss: 2.9307 - val_acc: 0.0000e+00\n",
      "Epoch 5/500\n",
      "10/10 - 0s - loss: 2.1562 - acc: 0.4000 - val_loss: 2.7697 - val_acc: 0.0000e+00\n",
      "Epoch 6/500\n",
      "10/10 - 0s - loss: 2.2903 - acc: 0.1000 - val_loss: 2.6363 - val_acc: 0.0000e+00\n",
      "Epoch 7/500\n",
      "10/10 - 0s - loss: 1.9194 - acc: 0.3000 - val_loss: 2.5244 - val_acc: 0.0000e+00\n",
      "Epoch 8/500\n",
      "10/10 - 0s - loss: 1.6939 - acc: 0.2000 - val_loss: 2.4267 - val_acc: 0.0000e+00\n",
      "Epoch 9/500\n",
      "10/10 - 0s - loss: 1.7152 - acc: 0.4000 - val_loss: 2.3462 - val_acc: 0.0000e+00\n",
      "Epoch 10/500\n",
      "10/10 - 0s - loss: 2.1407 - acc: 0.2000 - val_loss: 2.2765 - val_acc: 0.0000e+00\n",
      "Epoch 11/500\n",
      "10/10 - 0s - loss: 1.6252 - acc: 0.4000 - val_loss: 2.2136 - val_acc: 0.0000e+00\n",
      "Epoch 12/500\n",
      "10/10 - 0s - loss: 1.7539 - acc: 0.4000 - val_loss: 2.1575 - val_acc: 0.0000e+00\n",
      "Epoch 13/500\n",
      "10/10 - 0s - loss: 1.6871 - acc: 0.1000 - val_loss: 2.1080 - val_acc: 0.0000e+00\n",
      "Epoch 14/500\n",
      "10/10 - 0s - loss: 1.3856 - acc: 0.4000 - val_loss: 2.0626 - val_acc: 0.0000e+00\n",
      "Epoch 15/500\n",
      "10/10 - 0s - loss: 1.6871 - acc: 0.2000 - val_loss: 2.0193 - val_acc: 0.0000e+00\n",
      "Epoch 16/500\n",
      "10/10 - 0s - loss: 1.1542 - acc: 0.7000 - val_loss: 1.9803 - val_acc: 0.0000e+00\n",
      "Epoch 17/500\n",
      "10/10 - 0s - loss: 1.3236 - acc: 0.3000 - val_loss: 1.9446 - val_acc: 0.0000e+00\n",
      "Epoch 18/500\n",
      "10/10 - 0s - loss: 1.8958 - acc: 0.3000 - val_loss: 1.9126 - val_acc: 0.0000e+00\n",
      "Epoch 19/500\n",
      "10/10 - 0s - loss: 1.4220 - acc: 0.4000 - val_loss: 1.8840 - val_acc: 0.0000e+00\n",
      "Epoch 20/500\n",
      "10/10 - 0s - loss: 1.8482 - acc: 0.2000 - val_loss: 1.8586 - val_acc: 0.0000e+00\n",
      "Epoch 21/500\n",
      "10/10 - 0s - loss: 1.0754 - acc: 0.5000 - val_loss: 1.8339 - val_acc: 0.0000e+00\n",
      "Epoch 22/500\n",
      "10/10 - 0s - loss: 1.2698 - acc: 0.5000 - val_loss: 1.8095 - val_acc: 0.0000e+00\n",
      "Epoch 23/500\n",
      "10/10 - 0s - loss: 1.5765 - acc: 0.2000 - val_loss: 1.7871 - val_acc: 0.0000e+00\n",
      "Epoch 24/500\n",
      "10/10 - 0s - loss: 1.4096 - acc: 0.5000 - val_loss: 1.7660 - val_acc: 0.0000e+00\n",
      "Epoch 25/500\n",
      "10/10 - 0s - loss: 1.6259 - acc: 0.3000 - val_loss: 1.7447 - val_acc: 0.0000e+00\n",
      "Epoch 26/500\n",
      "10/10 - 0s - loss: 1.0754 - acc: 0.7000 - val_loss: 1.7239 - val_acc: 0.0000e+00\n",
      "Epoch 27/500\n",
      "10/10 - 0s - loss: 1.4087 - acc: 0.5000 - val_loss: 1.7048 - val_acc: 0.0000e+00\n",
      "Epoch 28/500\n",
      "10/10 - 0s - loss: 1.1905 - acc: 0.4000 - val_loss: 1.6871 - val_acc: 0.0000e+00\n",
      "Epoch 29/500\n",
      "10/10 - 0s - loss: 1.3826 - acc: 0.6000 - val_loss: 1.6683 - val_acc: 0.0000e+00\n",
      "Epoch 30/500\n",
      "10/10 - 0s - loss: 1.0034 - acc: 0.6000 - val_loss: 1.6515 - val_acc: 0.0000e+00\n",
      "Epoch 31/500\n",
      "10/10 - 0s - loss: 1.1581 - acc: 0.5000 - val_loss: 1.6362 - val_acc: 0.0000e+00\n",
      "Epoch 32/500\n",
      "10/10 - 0s - loss: 1.0314 - acc: 0.5000 - val_loss: 1.6224 - val_acc: 0.0000e+00\n",
      "Epoch 33/500\n",
      "10/10 - 0s - loss: 1.1024 - acc: 0.5000 - val_loss: 1.6083 - val_acc: 0.0000e+00\n",
      "Epoch 34/500\n",
      "10/10 - 0s - loss: 1.0147 - acc: 0.6000 - val_loss: 1.5948 - val_acc: 0.0000e+00\n",
      "Epoch 35/500\n",
      "10/10 - 0s - loss: 0.9954 - acc: 0.6000 - val_loss: 1.5820 - val_acc: 0.0000e+00\n",
      "Epoch 36/500\n",
      "10/10 - 0s - loss: 0.7705 - acc: 0.7000 - val_loss: 1.5705 - val_acc: 0.0000e+00\n",
      "Epoch 37/500\n",
      "10/10 - 0s - loss: 1.0907 - acc: 0.5000 - val_loss: 1.5604 - val_acc: 0.0000e+00\n",
      "Epoch 38/500\n",
      "10/10 - 0s - loss: 0.9473 - acc: 0.4000 - val_loss: 1.5508 - val_acc: 0.0000e+00\n",
      "Epoch 39/500\n",
      "10/10 - 0s - loss: 1.0711 - acc: 0.5000 - val_loss: 1.5414 - val_acc: 0.2000\n",
      "Epoch 40/500\n",
      "10/10 - 0s - loss: 1.0456 - acc: 0.6000 - val_loss: 1.5324 - val_acc: 0.2000\n",
      "Epoch 41/500\n",
      "10/10 - 0s - loss: 0.8815 - acc: 0.6000 - val_loss: 1.5231 - val_acc: 0.2000\n",
      "Epoch 42/500\n",
      "10/10 - 0s - loss: 1.1547 - acc: 0.4000 - val_loss: 1.5144 - val_acc: 0.2000\n",
      "Epoch 43/500\n",
      "10/10 - 0s - loss: 1.0709 - acc: 0.5000 - val_loss: 1.5062 - val_acc: 0.2000\n",
      "Epoch 44/500\n",
      "10/10 - 0s - loss: 0.9196 - acc: 0.6000 - val_loss: 1.4987 - val_acc: 0.2000\n",
      "Epoch 45/500\n",
      "10/10 - 0s - loss: 0.8008 - acc: 0.9000 - val_loss: 1.4925 - val_acc: 0.2000\n",
      "Epoch 46/500\n",
      "10/10 - 0s - loss: 0.9875 - acc: 0.4000 - val_loss: 1.4868 - val_acc: 0.2000\n",
      "Epoch 47/500\n",
      "10/10 - 0s - loss: 0.7633 - acc: 0.8000 - val_loss: 1.4818 - val_acc: 0.2000\n",
      "Epoch 48/500\n",
      "10/10 - 0s - loss: 1.1572 - acc: 0.4000 - val_loss: 1.4772 - val_acc: 0.2000\n",
      "Epoch 49/500\n",
      "10/10 - 0s - loss: 0.9301 - acc: 0.5000 - val_loss: 1.4725 - val_acc: 0.2000\n",
      "Epoch 50/500\n",
      "10/10 - 0s - loss: 0.7603 - acc: 0.6000 - val_loss: 1.4680 - val_acc: 0.2000\n",
      "Epoch 51/500\n",
      "10/10 - 0s - loss: 0.9588 - acc: 0.6000 - val_loss: 1.4636 - val_acc: 0.2000\n",
      "Epoch 52/500\n",
      "10/10 - 0s - loss: 0.7115 - acc: 0.7000 - val_loss: 1.4597 - val_acc: 0.2000\n",
      "Epoch 53/500\n",
      "10/10 - 0s - loss: 0.8728 - acc: 0.6000 - val_loss: 1.4561 - val_acc: 0.2000\n",
      "Epoch 54/500\n",
      "10/10 - 0s - loss: 0.7215 - acc: 0.9000 - val_loss: 1.4525 - val_acc: 0.2000\n",
      "Epoch 55/500\n",
      "10/10 - 0s - loss: 0.8672 - acc: 0.7000 - val_loss: 1.4492 - val_acc: 0.2000\n",
      "Epoch 56/500\n",
      "10/10 - 0s - loss: 0.9596 - acc: 0.5000 - val_loss: 1.4456 - val_acc: 0.2000\n",
      "Epoch 57/500\n",
      "10/10 - 0s - loss: 0.7467 - acc: 0.7000 - val_loss: 1.4425 - val_acc: 0.2000\n",
      "Epoch 58/500\n",
      "10/10 - 0s - loss: 0.6017 - acc: 0.7000 - val_loss: 1.4394 - val_acc: 0.2000\n",
      "Epoch 59/500\n",
      "10/10 - 0s - loss: 1.0861 - acc: 0.5000 - val_loss: 1.4356 - val_acc: 0.2000\n",
      "Epoch 60/500\n",
      "10/10 - 0s - loss: 0.6107 - acc: 0.7000 - val_loss: 1.4323 - val_acc: 0.2000\n",
      "Epoch 61/500\n",
      "10/10 - 0s - loss: 0.7380 - acc: 0.8000 - val_loss: 1.4292 - val_acc: 0.2000\n",
      "Epoch 62/500\n",
      "10/10 - 0s - loss: 0.7855 - acc: 0.8000 - val_loss: 1.4262 - val_acc: 0.2000\n",
      "Epoch 63/500\n",
      "10/10 - 0s - loss: 0.7337 - acc: 0.7000 - val_loss: 1.4230 - val_acc: 0.2000\n",
      "Epoch 64/500\n",
      "10/10 - 0s - loss: 0.8190 - acc: 0.6000 - val_loss: 1.4202 - val_acc: 0.2000\n",
      "Epoch 65/500\n",
      "10/10 - 0s - loss: 0.5490 - acc: 0.7000 - val_loss: 1.4174 - val_acc: 0.2000\n",
      "Epoch 66/500\n",
      "10/10 - 0s - loss: 0.7963 - acc: 0.7000 - val_loss: 1.4149 - val_acc: 0.2000\n",
      "Epoch 67/500\n",
      "10/10 - 0s - loss: 0.7614 - acc: 0.7000 - val_loss: 1.4125 - val_acc: 0.2000\n",
      "Epoch 68/500\n",
      "10/10 - 0s - loss: 0.4013 - acc: 1.0000 - val_loss: 1.4104 - val_acc: 0.2000\n",
      "Epoch 69/500\n",
      "10/10 - 0s - loss: 0.6605 - acc: 0.7000 - val_loss: 1.4086 - val_acc: 0.2000\n",
      "Epoch 70/500\n",
      "10/10 - 0s - loss: 0.5185 - acc: 0.8000 - val_loss: 1.4071 - val_acc: 0.2000\n",
      "Epoch 71/500\n",
      "10/10 - 0s - loss: 0.5946 - acc: 0.9000 - val_loss: 1.4056 - val_acc: 0.2000\n",
      "Epoch 72/500\n",
      "10/10 - 0s - loss: 0.6997 - acc: 0.7000 - val_loss: 1.4036 - val_acc: 0.2000\n",
      "Epoch 73/500\n",
      "10/10 - 0s - loss: 0.5363 - acc: 0.8000 - val_loss: 1.4019 - val_acc: 0.2000\n",
      "Epoch 74/500\n",
      "10/10 - 0s - loss: 0.6478 - acc: 0.9000 - val_loss: 1.4000 - val_acc: 0.2000\n",
      "Epoch 75/500\n",
      "10/10 - 0s - loss: 0.8070 - acc: 0.7000 - val_loss: 1.3983 - val_acc: 0.2000\n",
      "Epoch 76/500\n",
      "10/10 - 0s - loss: 0.4062 - acc: 1.0000 - val_loss: 1.3968 - val_acc: 0.2000\n",
      "Epoch 77/500\n",
      "10/10 - 0s - loss: 0.5122 - acc: 0.9000 - val_loss: 1.3949 - val_acc: 0.2000\n",
      "Epoch 78/500\n",
      "10/10 - 0s - loss: 0.5342 - acc: 0.8000 - val_loss: 1.3933 - val_acc: 0.2000\n",
      "Epoch 79/500\n",
      "10/10 - 0s - loss: 0.5622 - acc: 0.8000 - val_loss: 1.3915 - val_acc: 0.2000\n",
      "Epoch 80/500\n",
      "10/10 - 0s - loss: 0.3746 - acc: 1.0000 - val_loss: 1.3900 - val_acc: 0.2000\n",
      "Epoch 81/500\n",
      "10/10 - 0s - loss: 0.7121 - acc: 0.7000 - val_loss: 1.3885 - val_acc: 0.2000\n",
      "Epoch 82/500\n",
      "10/10 - 0s - loss: 0.7474 - acc: 0.7000 - val_loss: 1.3868 - val_acc: 0.2000\n",
      "Epoch 83/500\n",
      "10/10 - 0s - loss: 0.4215 - acc: 0.9000 - val_loss: 1.3857 - val_acc: 0.2000\n",
      "Epoch 84/500\n",
      "10/10 - 0s - loss: 0.4174 - acc: 1.0000 - val_loss: 1.3847 - val_acc: 0.2000\n",
      "Epoch 85/500\n",
      "10/10 - 0s - loss: 0.4927 - acc: 0.8000 - val_loss: 1.3845 - val_acc: 0.2000\n",
      "Epoch 86/500\n",
      "10/10 - 0s - loss: 0.5745 - acc: 0.9000 - val_loss: 1.3845 - val_acc: 0.2000\n",
      "Epoch 87/500\n",
      "10/10 - 0s - loss: 0.8197 - acc: 0.5000 - val_loss: 1.3848 - val_acc: 0.2000\n",
      "Epoch 88/500\n",
      "10/10 - 0s - loss: 0.5011 - acc: 0.9000 - val_loss: 1.3852 - val_acc: 0.2000\n",
      "Epoch 89/500\n",
      "10/10 - 0s - loss: 0.6175 - acc: 0.9000 - val_loss: 1.3857 - val_acc: 0.2000\n"
     ]
    },
    {
     "name": "stdout",
     "output_type": "stream",
     "text": [
      "Epoch 90/500\n",
      "10/10 - 0s - loss: 0.4197 - acc: 0.8000 - val_loss: 1.3866 - val_acc: 0.2000\n",
      "Epoch 91/500\n",
      "10/10 - 0s - loss: 0.7131 - acc: 0.8000 - val_loss: 1.3873 - val_acc: 0.2000\n",
      "Epoch 92/500\n",
      "10/10 - 0s - loss: 0.3799 - acc: 1.0000 - val_loss: 1.3880 - val_acc: 0.2000\n",
      "Epoch 93/500\n",
      "10/10 - 0s - loss: 0.3567 - acc: 0.9000 - val_loss: 1.3890 - val_acc: 0.0000e+00\n",
      "Epoch 94/500\n",
      "10/10 - 0s - loss: 0.6649 - acc: 0.8000 - val_loss: 1.3903 - val_acc: 0.0000e+00\n",
      "Epoch 95/500\n",
      "10/10 - 0s - loss: 0.2965 - acc: 0.9000 - val_loss: 1.3918 - val_acc: 0.0000e+00\n",
      "Epoch 96/500\n",
      "10/10 - 0s - loss: 0.5250 - acc: 0.8000 - val_loss: 1.3937 - val_acc: 0.0000e+00\n",
      "Epoch 97/500\n",
      "10/10 - 0s - loss: 0.3352 - acc: 1.0000 - val_loss: 1.3958 - val_acc: 0.0000e+00\n",
      "Epoch 98/500\n",
      "10/10 - 0s - loss: 0.3998 - acc: 1.0000 - val_loss: 1.3980 - val_acc: 0.0000e+00\n",
      "Epoch 99/500\n",
      "10/10 - 0s - loss: 0.4996 - acc: 0.9000 - val_loss: 1.4002 - val_acc: 0.0000e+00\n",
      "Epoch 100/500\n",
      "10/10 - 0s - loss: 0.3547 - acc: 0.9000 - val_loss: 1.4025 - val_acc: 0.0000e+00\n",
      "Epoch 101/500\n",
      "10/10 - 0s - loss: 0.5806 - acc: 0.9000 - val_loss: 1.4052 - val_acc: 0.0000e+00\n",
      "Epoch 102/500\n",
      "10/10 - 0s - loss: 0.3940 - acc: 0.9000 - val_loss: 1.4082 - val_acc: 0.0000e+00\n",
      "Epoch 103/500\n",
      "10/10 - 0s - loss: 0.4128 - acc: 0.9000 - val_loss: 1.4114 - val_acc: 0.0000e+00\n",
      "Epoch 104/500\n",
      "10/10 - 0s - loss: 0.3965 - acc: 0.8000 - val_loss: 1.4149 - val_acc: 0.0000e+00\n",
      "Epoch 105/500\n",
      "10/10 - 0s - loss: 0.3018 - acc: 1.0000 - val_loss: 1.4184 - val_acc: 0.0000e+00\n",
      "Epoch 106/500\n",
      "10/10 - 0s - loss: 0.4002 - acc: 1.0000 - val_loss: 1.4221 - val_acc: 0.0000e+00\n",
      "Epoch 107/500\n",
      "10/10 - 0s - loss: 0.7177 - acc: 0.5000 - val_loss: 1.4257 - val_acc: 0.0000e+00\n",
      "Epoch 108/500\n",
      "10/10 - 0s - loss: 0.6729 - acc: 0.7000 - val_loss: 1.4295 - val_acc: 0.0000e+00\n",
      "Epoch 109/500\n",
      "10/10 - 0s - loss: 0.4677 - acc: 0.8000 - val_loss: 1.4334 - val_acc: 0.0000e+00\n",
      "Epoch 110/500\n",
      "10/10 - 0s - loss: 0.7166 - acc: 0.7000 - val_loss: 1.4371 - val_acc: 0.0000e+00\n",
      "Epoch 111/500\n",
      "10/10 - 0s - loss: 0.4314 - acc: 0.9000 - val_loss: 1.4402 - val_acc: 0.0000e+00\n",
      "Epoch 112/500\n",
      "10/10 - 0s - loss: 0.3887 - acc: 0.9000 - val_loss: 1.4431 - val_acc: 0.0000e+00\n",
      "Epoch 113/500\n",
      "10/10 - 0s - loss: 0.3383 - acc: 1.0000 - val_loss: 1.4459 - val_acc: 0.0000e+00\n",
      "Epoch 114/500\n",
      "10/10 - 0s - loss: 0.6644 - acc: 0.8000 - val_loss: 1.4480 - val_acc: 0.0000e+00\n",
      "Epoch 115/500\n",
      "10/10 - 0s - loss: 0.2893 - acc: 0.9000 - val_loss: 1.4504 - val_acc: 0.0000e+00\n",
      "Epoch 116/500\n",
      "10/10 - 0s - loss: 0.3093 - acc: 1.0000 - val_loss: 1.4534 - val_acc: 0.0000e+00\n",
      "Epoch 117/500\n",
      "10/10 - 0s - loss: 0.3508 - acc: 0.9000 - val_loss: 1.4563 - val_acc: 0.0000e+00\n",
      "Epoch 118/500\n",
      "10/10 - 0s - loss: 0.5919 - acc: 0.8000 - val_loss: 1.4590 - val_acc: 0.0000e+00\n",
      "Epoch 119/500\n",
      "10/10 - 0s - loss: 0.4266 - acc: 1.0000 - val_loss: 1.4616 - val_acc: 0.0000e+00\n",
      "Epoch 120/500\n",
      "10/10 - 0s - loss: 0.3345 - acc: 1.0000 - val_loss: 1.4645 - val_acc: 0.0000e+00\n",
      "Epoch 121/500\n",
      "10/10 - 0s - loss: 0.3573 - acc: 0.8000 - val_loss: 1.4672 - val_acc: 0.0000e+00\n",
      "Epoch 122/500\n",
      "10/10 - 0s - loss: 0.3791 - acc: 1.0000 - val_loss: 1.4694 - val_acc: 0.0000e+00\n",
      "Epoch 123/500\n",
      "10/10 - 0s - loss: 0.4527 - acc: 0.8000 - val_loss: 1.4716 - val_acc: 0.0000e+00\n",
      "Epoch 124/500\n",
      "10/10 - 0s - loss: 0.6984 - acc: 0.6000 - val_loss: 1.4738 - val_acc: 0.0000e+00\n",
      "Epoch 125/500\n",
      "10/10 - 0s - loss: 0.2817 - acc: 1.0000 - val_loss: 1.4761 - val_acc: 0.0000e+00\n",
      "Epoch 126/500\n",
      "10/10 - 0s - loss: 0.4435 - acc: 0.9000 - val_loss: 1.4785 - val_acc: 0.0000e+00\n",
      "Epoch 127/500\n",
      "10/10 - 0s - loss: 0.3934 - acc: 1.0000 - val_loss: 1.4811 - val_acc: 0.0000e+00\n",
      "Epoch 128/500\n",
      "10/10 - 0s - loss: 0.4529 - acc: 0.9000 - val_loss: 1.4843 - val_acc: 0.0000e+00\n",
      "Epoch 129/500\n",
      "10/10 - 0s - loss: 0.2854 - acc: 1.0000 - val_loss: 1.4878 - val_acc: 0.0000e+00\n",
      "Epoch 130/500\n",
      "10/10 - 0s - loss: 0.2360 - acc: 1.0000 - val_loss: 1.4914 - val_acc: 0.0000e+00\n",
      "Epoch 131/500\n",
      "10/10 - 0s - loss: 0.3681 - acc: 0.9000 - val_loss: 1.4952 - val_acc: 0.0000e+00\n",
      "Epoch 132/500\n",
      "10/10 - 0s - loss: 0.4889 - acc: 0.8000 - val_loss: 1.4992 - val_acc: 0.0000e+00\n",
      "Epoch 133/500\n",
      "10/10 - 0s - loss: 0.6062 - acc: 0.8000 - val_loss: 1.5030 - val_acc: 0.0000e+00\n",
      "Epoch 134/500\n",
      "10/10 - 0s - loss: 0.3692 - acc: 0.9000 - val_loss: 1.5067 - val_acc: 0.0000e+00\n",
      "Epoch 135/500\n",
      "10/10 - 0s - loss: 0.3051 - acc: 1.0000 - val_loss: 1.5097 - val_acc: 0.0000e+00\n",
      "Epoch 136/500\n",
      "10/10 - 0s - loss: 0.2117 - acc: 1.0000 - val_loss: 1.5129 - val_acc: 0.0000e+00\n",
      "Epoch 00136: early stopping\n"
     ]
    }
   ],
   "source": [
    "history = model.fit(x_train, y_train, \n",
    "                    epochs=500, \n",
    "                    validation_data=((x_val, y_val)), \n",
    "                    callbacks=[es],\n",
    "                    verbose=2)"
   ]
  },
  {
   "cell_type": "code",
   "execution_count": 70,
   "metadata": {},
   "outputs": [
    {
     "data": {
      "text/plain": [
       "'A04E.mat'"
      ]
     },
     "execution_count": 70,
     "metadata": {},
     "output_type": "execute_result"
    }
   ],
   "source": [
    "file = file.replace('T','E')\n",
    "file"
   ]
  },
  {
   "cell_type": "code",
   "execution_count": 71,
   "metadata": {},
   "outputs": [],
   "source": [
    "test_data = io.matlab.loadmat(\"matlab_data/\" + file)['data']\n",
    "y_test = io.matlab.loadmat('true_labels/' + file)['classlabel']"
   ]
  },
  {
   "cell_type": "code",
   "execution_count": 72,
   "metadata": {},
   "outputs": [],
   "source": [
    "x_test = np.reshape(test_data, (288,1,22,250))"
   ]
  },
  {
   "cell_type": "code",
   "execution_count": 73,
   "metadata": {},
   "outputs": [],
   "source": [
    "y_pred = model.predict(x_test)"
   ]
  },
  {
   "cell_type": "code",
   "execution_count": 74,
   "metadata": {},
   "outputs": [],
   "source": [
    "pred = np.argmax(y_pred, axis=1) + 1"
   ]
  },
  {
   "cell_type": "code",
   "execution_count": 75,
   "metadata": {},
   "outputs": [],
   "source": [
    "acc = 0\n",
    "for i in range(len(y_test)):\n",
    "    if pred[i] == y_test[i]:\n",
    "        acc += 1"
   ]
  },
  {
   "cell_type": "code",
   "execution_count": 76,
   "metadata": {},
   "outputs": [
    {
     "data": {
      "text/plain": [
       "0.2569444444444444"
      ]
     },
     "execution_count": 76,
     "metadata": {},
     "output_type": "execute_result"
    }
   ],
   "source": [
    "acc / len(y_test)"
   ]
  },
  {
   "cell_type": "code",
   "execution_count": null,
   "metadata": {},
   "outputs": [],
   "source": []
  }
 ],
 "metadata": {
  "kernelspec": {
   "display_name": "Python 3",
   "language": "python",
   "name": "python3"
  },
  "language_info": {
   "codemirror_mode": {
    "name": "ipython",
    "version": 3
   },
   "file_extension": ".py",
   "mimetype": "text/x-python",
   "name": "python",
   "nbconvert_exporter": "python",
   "pygments_lexer": "ipython3",
   "version": "3.7.3"
  }
 },
 "nbformat": 4,
 "nbformat_minor": 4
}
