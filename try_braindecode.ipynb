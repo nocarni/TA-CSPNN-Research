{
 "cells": [
  {
   "cell_type": "code",
   "execution_count": 1,
   "metadata": {},
   "outputs": [],
   "source": [
    "import logging\n",
    "import os.path\n",
    "import time\n",
    "from collections import OrderedDict\n",
    "import sys\n",
    "\n",
    "import numpy as np\n",
    "\n",
    "\n",
    "from braindecode.datasets.bcic_iv_2a import BCICompetition4Set2A\n",
    "from braindecode.experiments.monitors import LossMonitor, MisclassMonitor, \\\n",
    "    RuntimeMonitor\n",
    "from braindecode.experiments.stopcriteria import MaxEpochs, NoDecrease, Or\n",
    "from braindecode.datautil.iterators import BalancedBatchSizeIterator\n",
    "from braindecode.datautil.splitters import split_into_two_sets\n",
    "from braindecode.mne_ext.signalproc import mne_apply,resample_cnt\n",
    "from braindecode.datautil.signalproc import (bandpass_cnt,\n",
    "                                             exponential_running_standardize)\n",
    "from braindecode.datautil.trial_segment import create_signal_target_from_raw_mne"
   ]
  },
  {
   "cell_type": "code",
   "execution_count": 2,
   "metadata": {},
   "outputs": [],
   "source": [
    "import numpy as np\n",
    "import mne\n",
    "from scipy.io import loadmat\n",
    "\n",
    "\n",
    "class BCICompetition4Set2A(object):\n",
    "    def __init__(self, filename, load_sensor_names=None, labels_filename=None):\n",
    "        assert load_sensor_names is None\n",
    "        self.__dict__.update(locals())\n",
    "        del self.self\n",
    "\n",
    "    def load(self):\n",
    "        cnt = self.extract_data()\n",
    "        events, artifact_trial_mask = self.extract_events(cnt)\n",
    "        cnt.info[\"events\"] = events\n",
    "        cnt.info[\"artifact_trial_mask\"] = artifact_trial_mask\n",
    "        return cnt\n",
    "\n",
    "    def extract_data(self):\n",
    "        raw_gdf = mne.io.read_raw_gdf(self.filename, stim_channel=\"auto\")\n",
    "        raw_gdf.load_data()\n",
    "        # correct nan values\n",
    "\n",
    "        data = raw_gdf.get_data()\n",
    "\n",
    "        for i_chan in range(data.shape[0]):\n",
    "            # first set to nan, than replace nans by nanmean.\n",
    "            this_chan = data[i_chan]\n",
    "            data[i_chan] = np.where(\n",
    "                this_chan == np.min(this_chan), np.nan, this_chan\n",
    "            )\n",
    "            mask = np.isnan(data[i_chan])\n",
    "            chan_mean = np.nanmean(data[i_chan])\n",
    "            data[i_chan, mask] = chan_mean\n",
    "\n",
    "        gdf_events = mne.events_from_annotations(raw_gdf)\n",
    "        raw_gdf = mne.io.RawArray(data, raw_gdf.info, verbose=\"WARNING\")\n",
    "        # remember gdf events\n",
    "        raw_gdf.info[\"gdf_events\"] = gdf_events\n",
    "        return raw_gdf\n",
    "\n",
    "    def extract_events(self, raw_gdf):\n",
    "        # all events\n",
    "        events, name_to_code = raw_gdf.info[\"gdf_events\"]\n",
    "        print(name_to_code)\n",
    "        train_set = True\n",
    "        if \"class1, Left hand - cue onset (BCI experiment)\" in name_to_code:\n",
    "            train_set = True\n",
    "        else:\n",
    "            train_set = False\n",
    "            assert (\n",
    "                \"cue unknown/undefined (used for BCI competition) \"\n",
    "                in name_to_code\n",
    "            )\n",
    "\n",
    "        if train_set:\n",
    "            trial_codes = [4, 5, 6, 7]  # the 4 classes\n",
    "        else:\n",
    "            trial_codes = [4]  # \"unknown\" class\n",
    "\n",
    "        trial_mask = [ev_code in trial_codes for ev_code in events[:, 2]]\n",
    "        trial_events = events[trial_mask]\n",
    "        assert len(trial_events) == 288, \"Got {:d} markers\".format(\n",
    "            len(trial_events)\n",
    "        )\n",
    "        trial_events[:, 2] = trial_events[:, 2] - 3\n",
    "        # possibly overwrite with markers from labels file\n",
    "        if self.labels_filename is not None:\n",
    "            classes = loadmat(self.labels_filename)[\"classlabel\"].squeeze()\n",
    "            if train_set:\n",
    "                np.testing.assert_array_equal(trial_events[:, 2], classes)\n",
    "            trial_events[:, 2] = classes\n",
    "        unique_classes = np.unique(trial_events[:, 2])\n",
    "        assert np.array_equal(\n",
    "            [1, 2, 3, 4], unique_classes\n",
    "        ), \"Expect 1,2,3,4 as class labels, got {:s}\".format(\n",
    "            str(unique_classes)\n",
    "        )\n",
    "\n",
    "        # now also create 0-1 vector for rejected trials\n",
    "        trial_start_events = events[events[:, 2] == 2]\n",
    "        assert len(trial_start_events) == len(trial_events)\n",
    "        artifact_trial_mask = np.zeros(len(trial_events), dtype=np.uint8)\n",
    "        artifact_events = events[events[:, 2] == 1]\n",
    "\n",
    "        for artifact_time in artifact_events[:, 0]:\n",
    "            i_trial = trial_start_events[:, 0].tolist().index(artifact_time)\n",
    "            artifact_trial_mask[i_trial] = 1\n",
    "\n",
    "        return trial_events, artifact_trial_mask"
   ]
  },
  {
   "cell_type": "code",
   "execution_count": 4,
   "metadata": {},
   "outputs": [
    {
     "name": "stdout",
     "output_type": "stream",
     "text": [
      "A01T.gdf\n",
      "Extracting EDF parameters from /Users/noahcarniglia/189project/data/A01T.gdf...\n",
      "GDF file detected\n",
      "Setting channel info structure...\n",
      "Creating raw.info structure...\n",
      "Reading 0 ... 672527  =      0.000 ...  2690.108 secs...\n"
     ]
    },
    {
     "name": "stderr",
     "output_type": "stream",
     "text": [
      "/Users/noahcarniglia/anaconda3/lib/python3.7/site-packages/mne/io/edf/edf.py:996: DeprecationWarning: The binary mode of fromstring is deprecated, as it behaves surprisingly on unicode inputs. Use frombuffer instead\n",
      "  etmode = np.fromstring(etmode, np.uint8).tolist()[0]\n",
      "<ipython-input-2-a3b52748e017>:20: RuntimeWarning: Channel names are not unique, found duplicates for: {'EEG'}. Applying running numbers for duplicates.\n",
      "  raw_gdf = mne.io.read_raw_gdf(self.filename, stim_channel=\"auto\")\n"
     ]
    },
    {
     "name": "stdout",
     "output_type": "stream",
     "text": [
      "Used Annotations descriptions: ['1023', '1072', '276', '277', '32766', '768', '769', '770', '771', '772']\n",
      "{'1023': 1, '1072': 2, '276': 3, '277': 4, '32766': 5, '768': 6, '769': 7, '770': 8, '771': 9, '772': 10}\n"
     ]
    },
    {
     "ename": "AssertionError",
     "evalue": "",
     "output_type": "error",
     "traceback": [
      "\u001b[0;31m---------------------------------------------------------------------------\u001b[0m",
      "\u001b[0;31mAssertionError\u001b[0m                            Traceback (most recent call last)",
      "\u001b[0;32m<ipython-input-4-a1b196eabe00>\u001b[0m in \u001b[0;36m<module>\u001b[0;34m\u001b[0m\n\u001b[1;32m      3\u001b[0m \u001b[0mtest_loader\u001b[0m \u001b[0;34m=\u001b[0m \u001b[0mBCICompetition4Set2A\u001b[0m\u001b[0;34m(\u001b[0m\u001b[0;34mf\"data/A01E.gdf\"\u001b[0m\u001b[0;34m)\u001b[0m\u001b[0;34m\u001b[0m\u001b[0;34m\u001b[0m\u001b[0m\n\u001b[1;32m      4\u001b[0m \u001b[0;34m\u001b[0m\u001b[0m\n\u001b[0;32m----> 5\u001b[0;31m \u001b[0mtrain_cnt\u001b[0m \u001b[0;34m=\u001b[0m \u001b[0mtrain_loader\u001b[0m\u001b[0;34m.\u001b[0m\u001b[0mload\u001b[0m\u001b[0;34m(\u001b[0m\u001b[0;34m)\u001b[0m\u001b[0;34m\u001b[0m\u001b[0;34m\u001b[0m\u001b[0m\n\u001b[0m\u001b[1;32m      6\u001b[0m \u001b[0mtest_cnt\u001b[0m \u001b[0;34m=\u001b[0m \u001b[0mtest_loader\u001b[0m\u001b[0;34m.\u001b[0m\u001b[0mload\u001b[0m\u001b[0;34m(\u001b[0m\u001b[0;34m)\u001b[0m\u001b[0;34m\u001b[0m\u001b[0;34m\u001b[0m\u001b[0m\n",
      "\u001b[0;32m<ipython-input-2-a3b52748e017>\u001b[0m in \u001b[0;36mload\u001b[0;34m(self)\u001b[0m\n\u001b[1;32m     12\u001b[0m     \u001b[0;32mdef\u001b[0m \u001b[0mload\u001b[0m\u001b[0;34m(\u001b[0m\u001b[0mself\u001b[0m\u001b[0;34m)\u001b[0m\u001b[0;34m:\u001b[0m\u001b[0;34m\u001b[0m\u001b[0;34m\u001b[0m\u001b[0m\n\u001b[1;32m     13\u001b[0m         \u001b[0mcnt\u001b[0m \u001b[0;34m=\u001b[0m \u001b[0mself\u001b[0m\u001b[0;34m.\u001b[0m\u001b[0mextract_data\u001b[0m\u001b[0;34m(\u001b[0m\u001b[0;34m)\u001b[0m\u001b[0;34m\u001b[0m\u001b[0;34m\u001b[0m\u001b[0m\n\u001b[0;32m---> 14\u001b[0;31m         \u001b[0mevents\u001b[0m\u001b[0;34m,\u001b[0m \u001b[0martifact_trial_mask\u001b[0m \u001b[0;34m=\u001b[0m \u001b[0mself\u001b[0m\u001b[0;34m.\u001b[0m\u001b[0mextract_events\u001b[0m\u001b[0;34m(\u001b[0m\u001b[0mcnt\u001b[0m\u001b[0;34m)\u001b[0m\u001b[0;34m\u001b[0m\u001b[0;34m\u001b[0m\u001b[0m\n\u001b[0m\u001b[1;32m     15\u001b[0m         \u001b[0mcnt\u001b[0m\u001b[0;34m.\u001b[0m\u001b[0minfo\u001b[0m\u001b[0;34m[\u001b[0m\u001b[0;34m\"events\"\u001b[0m\u001b[0;34m]\u001b[0m \u001b[0;34m=\u001b[0m \u001b[0mevents\u001b[0m\u001b[0;34m\u001b[0m\u001b[0;34m\u001b[0m\u001b[0m\n\u001b[1;32m     16\u001b[0m         \u001b[0mcnt\u001b[0m\u001b[0;34m.\u001b[0m\u001b[0minfo\u001b[0m\u001b[0;34m[\u001b[0m\u001b[0;34m\"artifact_trial_mask\"\u001b[0m\u001b[0;34m]\u001b[0m \u001b[0;34m=\u001b[0m \u001b[0martifact_trial_mask\u001b[0m\u001b[0;34m\u001b[0m\u001b[0;34m\u001b[0m\u001b[0m\n",
      "\u001b[0;32m<ipython-input-2-a3b52748e017>\u001b[0m in \u001b[0;36mextract_events\u001b[0;34m(self, raw_gdf)\u001b[0m\n\u001b[1;32m     51\u001b[0m             assert (\n\u001b[1;32m     52\u001b[0m                 \u001b[0;34m\"cue unknown/undefined (used for BCI competition) \"\u001b[0m\u001b[0;34m\u001b[0m\u001b[0;34m\u001b[0m\u001b[0m\n\u001b[0;32m---> 53\u001b[0;31m                 \u001b[0;32min\u001b[0m \u001b[0mname_to_code\u001b[0m\u001b[0;34m\u001b[0m\u001b[0;34m\u001b[0m\u001b[0m\n\u001b[0m\u001b[1;32m     54\u001b[0m             )\n\u001b[1;32m     55\u001b[0m \u001b[0;34m\u001b[0m\u001b[0m\n",
      "\u001b[0;31mAssertionError\u001b[0m: "
     ]
    }
   ],
   "source": [
    "\n",
    "print(f\"A01T.gdf\")\n",
    "train_loader = BCICompetition4Set2A(f\"data/A01T.gdf\")\n",
    "test_loader = BCICompetition4Set2A(f\"data/A01E.gdf\")\n",
    "\n",
    "train_cnt = train_loader.load()\n",
    "test_cnt = test_loader.load()"
   ]
  },
  {
   "cell_type": "code",
   "execution_count": null,
   "metadata": {},
   "outputs": [],
   "source": []
  },
  {
   "cell_type": "code",
   "execution_count": null,
   "metadata": {},
   "outputs": [],
   "source": []
  },
  {
   "cell_type": "code",
   "execution_count": null,
   "metadata": {},
   "outputs": [],
   "source": []
  },
  {
   "cell_type": "code",
   "execution_count": null,
   "metadata": {},
   "outputs": [],
   "source": []
  },
  {
   "cell_type": "code",
   "execution_count": null,
   "metadata": {},
   "outputs": [],
   "source": []
  }
 ],
 "metadata": {
  "kernelspec": {
   "display_name": "Python 3",
   "language": "python",
   "name": "python3"
  },
  "language_info": {
   "codemirror_mode": {
    "name": "ipython",
    "version": 3
   },
   "file_extension": ".py",
   "mimetype": "text/x-python",
   "name": "python",
   "nbconvert_exporter": "python",
   "pygments_lexer": "ipython3",
   "version": "3.7.3"
  }
 },
 "nbformat": 4,
 "nbformat_minor": 4
}
